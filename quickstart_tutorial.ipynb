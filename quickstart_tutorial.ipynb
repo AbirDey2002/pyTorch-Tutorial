{
 "cells": [
  {
   "cell_type": "markdown",
   "source": [
    "# QUICKSTART\n",
    "\n",
    "This section runs through the API for common tasks in machine learning. Refer to the links in each section to dive deeper.\n",
    "\n",
    "### Working with data\n",
    "\n",
    "PyTorch has two [primitives to work with data](https://pytorch.org/docs/stable/data.html) torch.utils.data.DataLoader and torch.utils.data.Dataset. Dataset stores the samples and their corresponding labels, and DataLoader wraps an iterable around the Dataset."
   ],
   "metadata": {
    "collapsed": false
   },
   "id": "172041af49fceea3"
  },
  {
   "cell_type": "code",
   "execution_count": 1,
   "id": "initial_id",
   "metadata": {
    "collapsed": true,
    "ExecuteTime": {
     "end_time": "2024-01-21T11:06:28.239107200Z",
     "start_time": "2024-01-21T11:06:21.540192500Z"
    }
   },
   "outputs": [],
   "source": [
    "import torch\n",
    "import torch.nn as nn\n",
    "from torch.utils.data import DataLoader\n",
    "from torchvision import datasets\n",
    "from torchvision.transforms import ToTensor"
   ]
  },
  {
   "cell_type": "markdown",
   "source": [
    "PyTorch offers domain-specific libraries such as [TorchText](https://pytorch.org/text/stable/index.html), [TorchVision](https://pytorch.org/vision/stable/index.html), and [TorchAudio](https://pytorch.org/audio/stable/index.html), all of which include datasets. For this tutorial, we will be using a TorchVision dataset.\n",
    "\n",
    "The torchvision.datasets module contains Dataset objects for many real-world vision data like CIFAR, COCO ([full list here](https://pytorch.org/vision/stable/datasets.html)). In this tutorial, we use the FashionMNIST dataset. Every TorchVision Dataset includes two arguments: transform and target_transform to modify the samples and labels respectively."
   ],
   "metadata": {
    "collapsed": false
   },
   "id": "5a89f3055e3e5131"
  },
  {
   "cell_type": "code",
   "outputs": [
    {
     "name": "stdout",
     "output_type": "stream",
     "text": [
      "Downloading http://fashion-mnist.s3-website.eu-central-1.amazonaws.com/train-images-idx3-ubyte.gz\n",
      "Downloading http://fashion-mnist.s3-website.eu-central-1.amazonaws.com/train-images-idx3-ubyte.gz to data\\FashionMNIST\\raw\\train-images-idx3-ubyte.gz\n"
     ]
    },
    {
     "name": "stderr",
     "output_type": "stream",
     "text": [
      "100%|██████████| 26421880/26421880 [00:23<00:00, 1112922.39it/s]\n"
     ]
    },
    {
     "name": "stdout",
     "output_type": "stream",
     "text": [
      "Extracting data\\FashionMNIST\\raw\\train-images-idx3-ubyte.gz to data\\FashionMNIST\\raw\n",
      "\n",
      "Downloading http://fashion-mnist.s3-website.eu-central-1.amazonaws.com/train-labels-idx1-ubyte.gz\n",
      "Downloading http://fashion-mnist.s3-website.eu-central-1.amazonaws.com/train-labels-idx1-ubyte.gz to data\\FashionMNIST\\raw\\train-labels-idx1-ubyte.gz\n"
     ]
    },
    {
     "name": "stderr",
     "output_type": "stream",
     "text": [
      "100%|██████████| 29515/29515 [00:00<00:00, 159152.73it/s]\n"
     ]
    },
    {
     "name": "stdout",
     "output_type": "stream",
     "text": [
      "Extracting data\\FashionMNIST\\raw\\train-labels-idx1-ubyte.gz to data\\FashionMNIST\\raw\n",
      "\n",
      "Downloading http://fashion-mnist.s3-website.eu-central-1.amazonaws.com/t10k-images-idx3-ubyte.gz\n",
      "Downloading http://fashion-mnist.s3-website.eu-central-1.amazonaws.com/t10k-images-idx3-ubyte.gz to data\\FashionMNIST\\raw\\t10k-images-idx3-ubyte.gz\n"
     ]
    },
    {
     "name": "stderr",
     "output_type": "stream",
     "text": [
      "100%|██████████| 4422102/4422102 [00:04<00:00, 1023353.42it/s]\n"
     ]
    },
    {
     "name": "stdout",
     "output_type": "stream",
     "text": [
      "Extracting data\\FashionMNIST\\raw\\t10k-images-idx3-ubyte.gz to data\\FashionMNIST\\raw\n",
      "\n",
      "Downloading http://fashion-mnist.s3-website.eu-central-1.amazonaws.com/t10k-labels-idx1-ubyte.gz\n",
      "Downloading http://fashion-mnist.s3-website.eu-central-1.amazonaws.com/t10k-labels-idx1-ubyte.gz to data\\FashionMNIST\\raw\\t10k-labels-idx1-ubyte.gz\n"
     ]
    },
    {
     "name": "stderr",
     "output_type": "stream",
     "text": [
      "100%|██████████| 5148/5148 [00:00<00:00, 735657.29it/s]"
     ]
    },
    {
     "name": "stdout",
     "output_type": "stream",
     "text": [
      "Extracting data\\FashionMNIST\\raw\\t10k-labels-idx1-ubyte.gz to data\\FashionMNIST\\raw\n"
     ]
    },
    {
     "name": "stderr",
     "output_type": "stream",
     "text": [
      "\n"
     ]
    }
   ],
   "source": [
    "# download data from open datasets\n",
    "\n",
    "training_data = datasets.FashionMNIST(\n",
    "    root = 'data',\n",
    "    train = True,\n",
    "    download = True,\n",
    "    transform = ToTensor(),\n",
    ")\n",
    "\n",
    "test_data = datasets.FashionMNIST(\n",
    "    root = 'data',\n",
    "    train = False,\n",
    "    download = True,\n",
    "    transform = ToTensor(),\n",
    ")"
   ],
   "metadata": {
    "collapsed": false,
    "ExecuteTime": {
     "end_time": "2024-01-21T11:11:29.736181800Z",
     "start_time": "2024-01-21T11:10:57.632839600Z"
    }
   },
   "id": "81dec0730930af40",
   "execution_count": 2
  },
  {
   "cell_type": "markdown",
   "source": [
    "We pass the Dataset as an argument to DataLoader. This wraps an iterable over our dataset, and supports automatic batching, sampling, shuffling and multiprocess data loading. Here we define a batch size of 64, i.e. each element in the dataloader iterable will return a batch of 64 features and labels."
   ],
   "metadata": {
    "collapsed": false
   },
   "id": "3987fa211f57008c"
  },
  {
   "cell_type": "code",
   "outputs": [
    {
     "name": "stdout",
     "output_type": "stream",
     "text": [
      "Shape of X [N, C, H, W]: torch.Size([64, 1, 28, 28])\n",
      "shape of y: torch.Size([64]) torch.int64\n"
     ]
    }
   ],
   "source": [
    "batch_size = 64\n",
    "\n",
    "#create data loaders\n",
    "train_dataloader = DataLoader(training_data, batch_size =batch_size)\n",
    "test_dataloader = DataLoader(test_data, batch_size=batch_size)\n",
    "\n",
    "for X, y in test_dataloader:\n",
    "    print(f\"Shape of X [N, C, H, W]: {X.shape}\")\n",
    "    print(f\"shape of y: {y.shape} {y.dtype}\")\n",
    "    break"
   ],
   "metadata": {
    "collapsed": false,
    "ExecuteTime": {
     "end_time": "2024-01-21T11:22:37.532199100Z",
     "start_time": "2024-01-21T11:22:37.395191Z"
    }
   },
   "id": "9fe2f6883b128db6",
   "execution_count": 3
  },
  {
   "cell_type": "markdown",
   "source": [
    "Read more about [loading data in PyTorch.](https://pytorch.org/tutorials/beginner/basics/data_tutorial.html)"
   ],
   "metadata": {
    "collapsed": false
   },
   "id": "be46e1a91a0cfd17"
  },
  {
   "cell_type": "markdown",
   "source": [
    "## Creating Models\n",
    "\n",
    "To define a neural network in PyTorch, we create a class that inherits from [nn.Module](https://pytorch.org/docs/stable/generated/torch.nn.Module.html). We define the layers of the network in the __init__ function and specify how data will pass through the network in the forward function. To accelerate operations in the neural network, we move it to the GPU or MPS if available."
   ],
   "metadata": {
    "collapsed": false
   },
   "id": "d028baa45fc1f4fb"
  },
  {
   "cell_type": "code",
   "outputs": [
    {
     "name": "stdout",
     "output_type": "stream",
     "text": [
      "Using cuda device\n"
     ]
    }
   ],
   "source": [
    "# Get gpu, mps or cpu respectively\n",
    "# pytorch cuda version installed\n",
    "\n",
    "device = (\n",
    "    \"cuda\" \n",
    "    if torch.cuda.is_available()\n",
    "    else \"mps\"\n",
    "    if torch.backends.mps.is_available()\n",
    "    else \"cpu\"\n",
    ")\n",
    "\n",
    "print(f\"Using {device} device\")"
   ],
   "metadata": {
    "collapsed": false,
    "ExecuteTime": {
     "end_time": "2024-01-21T11:32:29.667736700Z",
     "start_time": "2024-01-21T11:32:29.658879500Z"
    }
   },
   "id": "ab6199d6e15a39c2",
   "execution_count": 4
  },
  {
   "cell_type": "code",
   "outputs": [
    {
     "name": "stdout",
     "output_type": "stream",
     "text": [
      "NeuralNetwork(\n",
      "  (flatten): Flatten(start_dim=1, end_dim=-1)\n",
      "  (linear_relu_stack): Sequential(\n",
      "    (0): Linear(in_features=784, out_features=512, bias=True)\n",
      "    (1): ReLU()\n",
      "    (2): Linear(in_features=512, out_features=512, bias=True)\n",
      "    (3): ReLU()\n",
      "    (4): Linear(in_features=512, out_features=10, bias=True)\n",
      "  )\n",
      ")\n"
     ]
    }
   ],
   "source": [
    "# Define Model\n",
    "\n",
    "class NeuralNetwork(nn.Module):\n",
    "    def __init__(self):\n",
    "        super().__init__()\n",
    "        self.flatten = nn.Flatten()\n",
    "        self.linear_relu_stack = nn.Sequential(\n",
    "            nn.Linear(28*28, 512),\n",
    "            nn.ReLU(),\n",
    "            nn.Linear(512, 512),\n",
    "            nn.ReLU(),\n",
    "            nn.Linear(512, 10)\n",
    "        )\n",
    "    \n",
    "    def forward(self, x):\n",
    "        x = self.flatten(x)\n",
    "        logits = self.linear_relu_stack(x)\n",
    "        return logits\n",
    "\n",
    "model = NeuralNetwork().to(device)\n",
    "print(model)"
   ],
   "metadata": {
    "collapsed": false,
    "ExecuteTime": {
     "end_time": "2024-01-21T11:37:42.146264700Z",
     "start_time": "2024-01-21T11:37:41.830903800Z"
    }
   },
   "id": "23282b0d30d50f02",
   "execution_count": 5
  },
  {
   "cell_type": "markdown",
   "source": [
    "Read more about [building neural networks in PyTorch.](https://pytorch.org/tutorials/beginner/basics/buildmodel_tutorial.html)"
   ],
   "metadata": {
    "collapsed": false
   },
   "id": "618d610597bf2531"
  },
  {
   "cell_type": "markdown",
   "source": [
    "## optimizing the Model Parameters\n",
    "\n",
    "To train a model, we need a [loss function](https://pytorch.org/docs/stable/nn.html#loss-functions) and an [optimizer](https://pytorch.org/docs/stable/optim.html)."
   ],
   "metadata": {
    "collapsed": false
   },
   "id": "a30cf96d2d5f3354"
  },
  {
   "cell_type": "code",
   "outputs": [],
   "source": [
    "loss_fn = nn.CrossEntropyLoss()\n",
    "optimizer = torch.optim.SGD(model.parameters(),lr=1e-3)"
   ],
   "metadata": {
    "collapsed": false,
    "ExecuteTime": {
     "end_time": "2024-01-21T11:41:38.370259900Z",
     "start_time": "2024-01-21T11:41:38.345161600Z"
    }
   },
   "id": "9dcc6fdd73b76a9c",
   "execution_count": 6
  },
  {
   "cell_type": "markdown",
   "source": [
    "In a single training loop, the model makes predictions on the training dataset (fed to it in batches), and backpropagates the prediction error to adjust the model’s parameters."
   ],
   "metadata": {
    "collapsed": false
   },
   "id": "6d30f4d356e1a3f2"
  },
  {
   "cell_type": "code",
   "outputs": [],
   "source": [
    "def train(dataloader, model, loss_fn, optimizer):\n",
    "    size = len(dataloader.dataset)\n",
    "    model.train()\n",
    "    for batch, (X, y) in enumerate(dataloader):\n",
    "        X, y = X.to(device), y.to(device)\n",
    "        \n",
    "        # Compute prediction error\n",
    "        pred = model(X)\n",
    "        loss = loss_fn(pred, y)\n",
    "        \n",
    "        # Backpropogation\n",
    "        loss.backward()\n",
    "        optimizer.step()\n",
    "        optimizer.zero_grad()\n",
    "        \n",
    "        if batch % 100 == 0:\n",
    "            loss, current = loss.item(), (batch + 1) * len(X)\n",
    "            print(f\"Loss: {loss:>7f} [{current :>5d}/{size:>5d}]\")"
   ],
   "metadata": {
    "collapsed": false,
    "ExecuteTime": {
     "end_time": "2024-01-21T11:48:34.371205200Z",
     "start_time": "2024-01-21T11:48:34.358870200Z"
    }
   },
   "id": "793f6d3fadab4eb3",
   "execution_count": 7
  },
  {
   "cell_type": "markdown",
   "source": [
    "We also check the model’s performance against the test dataset to ensure it is learning."
   ],
   "metadata": {
    "collapsed": false
   },
   "id": "1a7a204904cd7478"
  },
  {
   "cell_type": "code",
   "outputs": [],
   "source": [
    "def test(dataloader, model, loss_fn):\n",
    "    size = len(dataloader.dataset)\n",
    "    num_batches = len(dataloader)\n",
    "    model.eval()\n",
    "    test_loss, correct = 0, 0\n",
    "    with torch.no_grad():\n",
    "        for X, y in dataloader:\n",
    "            X, y = X.to(device), y.to(device)\n",
    "            pred = model(X)\n",
    "            test_loss += loss_fn(pred, y).item()\n",
    "            correct += (pred.argmax(1) == y).type(torch.float).sum().item()\n",
    "    \n",
    "    test_loss /= num_batches\n",
    "    correct /= size\n",
    "    print(f\"Test Error: \\n Accuracy: {(100*correct):>0.1f}%, Avg loss: {test_loss:>8f} \\n\")"
   ],
   "metadata": {
    "collapsed": false,
    "ExecuteTime": {
     "end_time": "2024-01-21T11:52:30.115662400Z",
     "start_time": "2024-01-21T11:52:30.096631500Z"
    }
   },
   "id": "3b11f1dad4fc187b",
   "execution_count": 8
  },
  {
   "cell_type": "markdown",
   "source": [
    "The training process is conducted over several iterations (epochs). During each epoch, the model learns parameters to make better predictions. We print the model’s accuracy and loss at each epoch; we’d like to see the accuracy increase and the loss decrease with every epoch."
   ],
   "metadata": {
    "collapsed": false
   },
   "id": "717e8d4036f552aa"
  },
  {
   "cell_type": "code",
   "outputs": [
    {
     "name": "stdout",
     "output_type": "stream",
     "text": [
      "Epoch 1\n",
      "------------------------------\n",
      "Loss: 2.303195 [   64/60000]\n",
      "Loss: 2.286558 [ 6464/60000]\n",
      "Loss: 2.267627 [12864/60000]\n",
      "Loss: 2.260448 [19264/60000]\n",
      "Loss: 2.228235 [25664/60000]\n",
      "Loss: 2.221945 [32064/60000]\n",
      "Loss: 2.225429 [38464/60000]\n",
      "Loss: 2.192205 [44864/60000]\n",
      "Loss: 2.177213 [51264/60000]\n",
      "Loss: 2.154763 [57664/60000]\n",
      "Test Error: \n",
      " Accuracy: 44.8%, Avg loss: 2.140375 \n",
      "\n",
      "Epoch 2\n",
      "------------------------------\n",
      "Loss: 2.154417 [   64/60000]\n",
      "Loss: 2.141906 [ 6464/60000]\n",
      "Loss: 2.084322 [12864/60000]\n",
      "Loss: 2.096792 [19264/60000]\n",
      "Loss: 2.029049 [25664/60000]\n",
      "Loss: 1.993511 [32064/60000]\n",
      "Loss: 2.009791 [38464/60000]\n",
      "Loss: 1.934698 [44864/60000]\n",
      "Loss: 1.933708 [51264/60000]\n",
      "Loss: 1.858538 [57664/60000]\n",
      "Test Error: \n",
      " Accuracy: 54.0%, Avg loss: 1.854708 \n",
      "\n",
      "Epoch 3\n",
      "------------------------------\n",
      "Loss: 1.897866 [   64/60000]\n",
      "Loss: 1.863240 [ 6464/60000]\n",
      "Loss: 1.743362 [12864/60000]\n",
      "Loss: 1.776969 [19264/60000]\n",
      "Loss: 1.648078 [25664/60000]\n",
      "Loss: 1.633939 [32064/60000]\n",
      "Loss: 1.639183 [38464/60000]\n",
      "Loss: 1.555512 [44864/60000]\n",
      "Loss: 1.574757 [51264/60000]\n",
      "Loss: 1.463518 [57664/60000]\n",
      "Test Error: \n",
      " Accuracy: 60.5%, Avg loss: 1.483743 \n",
      "\n",
      "Epoch 4\n",
      "------------------------------\n",
      "Loss: 1.561835 [   64/60000]\n",
      "Loss: 1.524963 [ 6464/60000]\n",
      "Loss: 1.372218 [12864/60000]\n",
      "Loss: 1.438457 [19264/60000]\n",
      "Loss: 1.307860 [25664/60000]\n",
      "Loss: 1.334795 [32064/60000]\n",
      "Loss: 1.336404 [38464/60000]\n",
      "Loss: 1.277678 [44864/60000]\n",
      "Loss: 1.304029 [51264/60000]\n",
      "Loss: 1.201404 [57664/60000]\n",
      "Test Error: \n",
      " Accuracy: 63.3%, Avg loss: 1.228274 \n",
      "\n",
      "Epoch 5\n",
      "------------------------------\n",
      "Loss: 1.313717 [   64/60000]\n",
      "Loss: 1.293655 [ 6464/60000]\n",
      "Loss: 1.123043 [12864/60000]\n",
      "Loss: 1.227425 [19264/60000]\n",
      "Loss: 1.092385 [25664/60000]\n",
      "Loss: 1.142182 [32064/60000]\n",
      "Loss: 1.154115 [38464/60000]\n",
      "Loss: 1.106810 [44864/60000]\n",
      "Loss: 1.136154 [51264/60000]\n",
      "Loss: 1.048203 [57664/60000]\n",
      "Test Error: \n",
      " Accuracy: 64.8%, Avg loss: 1.071413 \n",
      "\n",
      "Done!\n"
     ]
    }
   ],
   "source": [
    "epochs = 5\n",
    "for t in range(epochs):\n",
    "    print(f\"Epoch {t+1}\\n------------------------------\")\n",
    "    train(train_dataloader, model, loss_fn, optimizer)\n",
    "    test(test_dataloader, model, loss_fn)\n",
    "print(\"Done!\")"
   ],
   "metadata": {
    "collapsed": false,
    "ExecuteTime": {
     "end_time": "2024-01-21T11:54:58.054039Z",
     "start_time": "2024-01-21T11:54:06.347672800Z"
    }
   },
   "id": "2c08f06d0443cd8",
   "execution_count": 9
  },
  {
   "cell_type": "markdown",
   "source": [
    "Read more about [Training your model.](https://pytorch.org/tutorials/beginner/basics/optimization_tutorial.html)"
   ],
   "metadata": {
    "collapsed": false
   },
   "id": "7e9ba24306f8b603"
  },
  {
   "cell_type": "markdown",
   "source": [
    "## Saving Models\n",
    "\n",
    "A common way to save a model is to serialize the internal state dictionary (containing the model parameters)."
   ],
   "metadata": {
    "collapsed": false
   },
   "id": "26c66d2890051f81"
  },
  {
   "cell_type": "code",
   "outputs": [
    {
     "name": "stdout",
     "output_type": "stream",
     "text": [
      "Saved PyTorch Model State to model.pth\n"
     ]
    }
   ],
   "source": [
    "torch.save(model.state_dict(), \"model.pth\")\n",
    "print(\"Saved PyTorch Model State to model.pth\")"
   ],
   "metadata": {
    "collapsed": false,
    "ExecuteTime": {
     "end_time": "2024-01-21T11:57:26.226931300Z",
     "start_time": "2024-01-21T11:57:26.130948500Z"
    }
   },
   "id": "cb44058a0fca0260",
   "execution_count": 10
  },
  {
   "cell_type": "markdown",
   "source": [
    "## Loading Models\n",
    "\n",
    "The process for loading a model includes re-creating the model structure and loading the state dictionary into it."
   ],
   "metadata": {
    "collapsed": false
   },
   "id": "63afb35922f58ae7"
  },
  {
   "cell_type": "code",
   "outputs": [
    {
     "data": {
      "text/plain": "<All keys matched successfully>"
     },
     "execution_count": 11,
     "metadata": {},
     "output_type": "execute_result"
    }
   ],
   "source": [
    "model = NeuralNetwork().to(device)\n",
    "model.load_state_dict(torch.load(\"model.pth\"))"
   ],
   "metadata": {
    "collapsed": false,
    "ExecuteTime": {
     "end_time": "2024-01-21T11:59:23.094469600Z",
     "start_time": "2024-01-21T11:59:22.971186600Z"
    }
   },
   "id": "bd12c67e3caac404",
   "execution_count": 11
  },
  {
   "cell_type": "markdown",
   "source": [
    "This model can now be used to make predictions."
   ],
   "metadata": {
    "collapsed": false
   },
   "id": "3eecdf6d144ef5f9"
  },
  {
   "cell_type": "code",
   "outputs": [
    {
     "name": "stdout",
     "output_type": "stream",
     "text": [
      "predicted: 'Ankle boot', Actual: 'Ankle boot'\n"
     ]
    }
   ],
   "source": [
    "classes = [\n",
    "    \"T-shirt/top\",\n",
    "    \"Trouser\",\n",
    "    \"Pullover\",\n",
    "    \"Dress\",\n",
    "    \"Coat\",\n",
    "    \"Sandal\",\n",
    "    \"Shirt\",\n",
    "    \"Sneaker\",\n",
    "    \"Bag\",\n",
    "    \"Ankle boot\",\n",
    "]\n",
    "\n",
    "model.eval()\n",
    "x, y = test_data[0][0], test_data[0][1]\n",
    "with torch.no_grad():\n",
    "    x = x.to(device)\n",
    "    pred = model(x)\n",
    "    predicted, actual = classes[pred[0].argmax()], classes[y]\n",
    "    print(f\"predicted: '{predicted}', Actual: '{actual}'\")"
   ],
   "metadata": {
    "collapsed": false,
    "ExecuteTime": {
     "end_time": "2024-01-21T12:05:41.381088400Z",
     "start_time": "2024-01-21T12:05:41.331497800Z"
    }
   },
   "id": "af50b39decc38440",
   "execution_count": 16
  },
  {
   "cell_type": "markdown",
   "source": [
    "Read more about [Saving & Loading your model](https://pytorch.org/tutorials/beginner/basics/saveloadrun_tutorial.html)."
   ],
   "metadata": {
    "collapsed": false
   },
   "id": "e4fda8e79844abb3"
  }
 ],
 "metadata": {
  "kernelspec": {
   "display_name": "Python 3",
   "language": "python",
   "name": "python3"
  },
  "language_info": {
   "codemirror_mode": {
    "name": "ipython",
    "version": 2
   },
   "file_extension": ".py",
   "mimetype": "text/x-python",
   "name": "python",
   "nbconvert_exporter": "python",
   "pygments_lexer": "ipython2",
   "version": "2.7.6"
  }
 },
 "nbformat": 4,
 "nbformat_minor": 5
}
